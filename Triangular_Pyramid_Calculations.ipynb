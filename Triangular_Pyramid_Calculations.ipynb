{
 "cells": [
  {
   "cell_type": "code",
   "execution_count": 1,
   "metadata": {
    "collapsed": false
   },
   "outputs": [
    {
     "name": "stdout",
     "output_type": "stream",
     "text": [
      "Sun Jul  2 15:11:00 PDT 2017\r\n"
     ]
    }
   ],
   "source": [
    "!date"
   ]
  },
  {
   "cell_type": "markdown",
   "metadata": {},
   "source": [
    "## Calculations for the Triangular Pyramid\n",
    "by Marian Farah (with code review by Ankur Gupta)\n",
    "\n",
    "In this notebook, we calculate the values of $s$, $a$, $\\theta$, and $h$ in a triangular pyramid. The source for the figure below is http://formulas.tutorvista.com/math/pyramid-formula.html\n",
    "<img src=\"triangular_pyramid.png\">\n",
    "\n",
    "<b> Calculating $\\boldsymbol{s}$</b> <br>\n",
    "Consider a side (isosceles) triangle with edges $(c, c, b)$. <br>\n",
    "Notice that $s$ is the height of this triangle. <br>\n",
    "Apply the Pythagorean Theorem to the triangle with edges $(c, \\frac{b}{2}, ~s)$: <br>\n",
    "$c^2 = \\left(\\frac{b}{2}\\right)^2 + s^2$. Thus $s = \\sqrt{(c^2 - \\frac{b^2}{4})}$.\n",
    "\n",
    "<b> Calculating $\\boldsymbol{a}$</b> <br>\n",
    "Consider the base (equilateral) triangle with each edge equals to $b$. <br>\n",
    "Notice that $a$ is the height of this triangle. <br>\n",
    "Apply the Pythagorean Theorem to the triangle with edge $(b, \\frac{b}{2}, ~a)$:<br> \n",
    "$b^2 = \\left(\\frac{b}{2}\\right)^2 + a^2$. Thus $a = \\sqrt{(b^2 - \\frac{b^2}{4})}$.\n",
    "\n",
    "<b> Calculating $\\boldsymbol{\\theta}$</b> <br>\n",
    "Consider the inner triangle with edges $(a, c, s)$. <br>\n",
    "To calculate the value of $\\theta$, the angle between edges $a$ and $c$, we use the Law of Cosines: <br>\n",
    "$s^2 = a^2 + c^2 - 2ac\\,Cos(\\theta)$ <br><br>\n",
    "Solving for $\\theta$ we get, \n",
    "$Cos(\\theta) = \\frac{a^2 + c^2 - s^2}{2ac}$. Thus, $\\theta = arcCos \\left(\\frac{a^2 + c^2 - s^2}{2ac}\\right)$, which will be in radians. <br><br>\n",
    "The formula convert to degrees is  $\\frac{\\theta * 180}{\\pi}$\n",
    "\n",
    "<b> Calculating $\\boldsymbol{h}$</b> <br>\n",
    "Consider the inner triangle with edges $(a, c, s)$. <br>\n",
    "Apply Heron's formula to calculate the area: <br>\n",
    "Let $X = \\frac{a + c + s}{2}$, then $~Area=\\sqrt{X(X-a)(X-c)(X-s)}$. <br>\n",
    "Another way to calculate the area is $Area = \\frac{a~ h}{2}$. \n",
    "We can solve for $h$ as $h = \\frac{2~Area}{a}$"
   ]
  },
  {
   "cell_type": "code",
   "execution_count": 2,
   "metadata": {
    "collapsed": false
   },
   "outputs": [],
   "source": [
    "import numpy as np\n",
    "from numpy.testing import assert_almost_equal"
   ]
  },
  {
   "cell_type": "code",
   "execution_count": 3,
   "metadata": {
    "collapsed": true
   },
   "outputs": [],
   "source": [
    "def get_s(b, c):\n",
    "    s = np.sqrt(c**2 - b**2/4.)\n",
    "    return s\n",
    "\n",
    "def get_a(b):\n",
    "    a = np.sqrt(b**2 - b**2/4.)\n",
    "    return a\n",
    "\n",
    "def radian_to_degree(theta_radian):\n",
    "    theta_degree = (theta_radian * 180.)/np.pi\n",
    "    return theta_degree\n",
    "\n",
    "def get_theta(a, c, s):\n",
    "    theta_radian = np.arccos((a**2 + c**2 - s**2)/(2*a*c))\n",
    "    theta_degree = radian_to_degree(theta_radian)\n",
    "    return theta_degree\n",
    "\n",
    "def get_h(a, c, s):\n",
    "    X = (a + c + s)/2.\n",
    "    # heron's formula forcalculating the area\n",
    "    Area = np.sqrt(X * (X - a) * (X - c) * (X - s))\n",
    "    # recall Area = h*a/2, thus:\n",
    "    h = 2. * Area / a\n",
    "    return h"
   ]
  },
  {
   "cell_type": "code",
   "execution_count": 4,
   "metadata": {
    "collapsed": true
   },
   "outputs": [],
   "source": [
    "# The following values for b and c were provided by Kevin Byall\n",
    "b = 183.25\n",
    "c = 184.25"
   ]
  },
  {
   "cell_type": "code",
   "execution_count": 5,
   "metadata": {
    "collapsed": false
   },
   "outputs": [],
   "source": [
    "# calculate quantities of interst \n",
    "s = get_s(b, c)\n",
    "a = get_a(b)\n",
    "theta = get_theta(a, c, s)\n",
    "h = get_h(a, c, s)"
   ]
  },
  {
   "cell_type": "code",
   "execution_count": 6,
   "metadata": {
    "collapsed": false
   },
   "outputs": [
    {
     "name": "stdout",
     "output_type": "stream",
     "text": [
      "s =  159.852813159\n",
      "a =  158.699155243\n",
      "theta =  54.9552006018\n",
      "h =  150.846086017\n"
     ]
    }
   ],
   "source": [
    "print('s = ', s)\n",
    "print('a = ', a)\n",
    "print('theta = ', theta)\n",
    "print('h = ', h)"
   ]
  },
  {
   "cell_type": "code",
   "execution_count": 7,
   "metadata": {
    "collapsed": false
   },
   "outputs": [],
   "source": [
    "# test get_s() on the right triangle defined by:\n",
    "# opposit, s = np.sqrt(3)\n",
    "# adjacent, b/2 = 1\n",
    "# hypotenuse, c = 2\n",
    "assert_almost_equal(get_s(c=2, b=2), np.sqrt(3))"
   ]
  },
  {
   "cell_type": "code",
   "execution_count": 8,
   "metadata": {
    "collapsed": true
   },
   "outputs": [],
   "source": [
    "# test get_a() on the right triangle defined by:\n",
    "# opposit, a = np.sqrt(3)\n",
    "# adjacent, b/2 = 1\n",
    "# hypotenuse, c = 2\n",
    "assert_almost_equal(get_a(b=2), np.sqrt(3))"
   ]
  },
  {
   "cell_type": "code",
   "execution_count": 9,
   "metadata": {
    "collapsed": false
   },
   "outputs": [],
   "source": [
    "# test radian to degree on pi, pi/2, and 0 radians\n",
    "assert_almost_equal(radian_to_degree(np.pi), 180.0)\n",
    "assert_almost_equal(radian_to_degree(np.pi/2.), 90.0)\n",
    "assert_almost_equal(radian_to_degree(0), 0)"
   ]
  },
  {
   "cell_type": "code",
   "execution_count": 10,
   "metadata": {
    "collapsed": false
   },
   "outputs": [],
   "source": [
    "# test get_theta() on the right triangle defined by:\n",
    "# opposit, s = np.sqrt(3)\n",
    "# adjacent, a = 1\n",
    "# hypotenuse, c = 2\n",
    "# The angle between a and c is theta = 60 degrees\n",
    "assert_almost_equal(get_theta(a=1, c=2, s=np.sqrt(3)), 60.0)"
   ]
  },
  {
   "cell_type": "code",
   "execution_count": 11,
   "metadata": {
    "collapsed": true
   },
   "outputs": [],
   "source": [
    "# test get_h() on equalateral triangle.\n",
    "# h = np.sqrt(3)\n",
    "# sides are 2 each\n",
    "assert_almost_equal(get_h(a=2, c=2, s=2), np.sqrt(3))"
   ]
  },
  {
   "cell_type": "code",
   "execution_count": 12,
   "metadata": {
    "collapsed": false
   },
   "outputs": [],
   "source": [
    "# final sanity check for calculating the height of a triangular pyramid\n",
    "# wolfram has two useful formulas to calculate the height\n",
    "# see http://mathworld.wolfram.com/TriangularPyramid.html\n",
    "# They use different notation: e is our c, h is our h, a is our b, s is our s.\n",
    "# Thus, in our notation c = np.sqrt(h**2 + b**2/3)\n",
    "# We derive h to be np.sqrt(c**2 - b**2/3)\n",
    "assert_almost_equal(np.sqrt(c**2 - b**2/3.), h)"
   ]
  }
 ],
 "metadata": {
  "anaconda-cloud": {},
  "kernelspec": {
   "display_name": "Python [Root]",
   "language": "python",
   "name": "Python [Root]"
  },
  "language_info": {
   "codemirror_mode": {
    "name": "ipython",
    "version": 3
   },
   "file_extension": ".py",
   "mimetype": "text/x-python",
   "name": "python",
   "nbconvert_exporter": "python",
   "pygments_lexer": "ipython3",
   "version": "3.5.2"
  }
 },
 "nbformat": 4,
 "nbformat_minor": 0
}
